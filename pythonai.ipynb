{
  "nbformat": 4,
  "nbformat_minor": 0,
  "metadata": {
    "colab": {
      "provenance": [],
      "authorship_tag": "ABX9TyOE+I9k+tPMXtIyitoGSlwx",
      "include_colab_link": true
    },
    "kernelspec": {
      "name": "python3",
      "display_name": "Python 3"
    },
    "language_info": {
      "name": "python"
    }
  },
  "cells": [
    {
      "cell_type": "markdown",
      "metadata": {
        "id": "view-in-github",
        "colab_type": "text"
      },
      "source": [
        "<a href=\"https://colab.research.google.com/github/francis-100/python-kaggle/blob/main/pythonai.ipynb\" target=\"_parent\"><img src=\"https://colab.research.google.com/assets/colab-badge.svg\" alt=\"Open In Colab\"/></a>"
      ]
    },
    {
      "cell_type": "code",
      "execution_count": null,
      "metadata": {
        "colab": {
          "base_uri": "https://localhost:8080/"
        },
        "id": "Sg71RhHhXTNE",
        "outputId": "532eb7fe-77bc-4189-ead9-63eb3943c2ec"
      },
      "outputs": [
        {
          "output_type": "stream",
          "name": "stdout",
          "text": [
            "Hello, World\n"
          ]
        }
      ],
      "source": [
        "print(\"Hello, World\")"
      ]
    },
    {
      "cell_type": "code",
      "source": [
        "print(5+4)\n",
        "print(5-4)\n",
        "print(5*4)\n",
        "print(4/2)\n",
        "print(5%2)\n"
      ],
      "metadata": {
        "colab": {
          "base_uri": "https://localhost:8080/"
        },
        "id": "CrDMPXKmZc4Z",
        "outputId": "319e6c37-38a3-451d-904f-3a59ee3ef6b7"
      },
      "execution_count": null,
      "outputs": [
        {
          "output_type": "stream",
          "name": "stdout",
          "text": [
            "9\n",
            "1\n",
            "20\n",
            "2.0\n",
            "1\n"
          ]
        }
      ]
    },
    {
      "cell_type": "code",
      "source": [
        "# This is a comment\n",
        "print(\"We have a comment above!\")"
      ],
      "metadata": {
        "colab": {
          "base_uri": "https://localhost:8080/"
        },
        "id": "MvHQjYW8aWel",
        "outputId": "31a6f1de-f259-4121-c85c-2d92f49f164c"
      },
      "execution_count": null,
      "outputs": [
        {
          "output_type": "stream",
          "name": "stdout",
          "text": [
            "We have a comment above!\n"
          ]
        }
      ]
    },
    {
      "cell_type": "code",
      "source": [
        "test_var = 5 + 4\n",
        "print(test_var)"
      ],
      "metadata": {
        "colab": {
          "base_uri": "https://localhost:8080/"
        },
        "id": "qQWNES7Tbjg_",
        "outputId": "63276e07-5252-4168-dae6-7010fc2bae80"
      },
      "execution_count": null,
      "outputs": [
        {
          "output_type": "stream",
          "name": "stdout",
          "text": [
            "9\n"
          ]
        }
      ]
    },
    {
      "cell_type": "code",
      "source": [
        "test_var2 = 4\n",
        "test_var3 = test_var2 + 4\n",
        "print(test_var2)\n",
        "print(test_var3)\n"
      ],
      "metadata": {
        "colab": {
          "base_uri": "https://localhost:8080/"
        },
        "id": "INrXm7FFc3i8",
        "outputId": "7b6f5f1a-f00f-4675-c827-72eb1fe17e33"
      },
      "execution_count": null,
      "outputs": [
        {
          "output_type": "stream",
          "name": "stdout",
          "text": [
            "4\n",
            "8\n"
          ]
        }
      ]
    },
    {
      "cell_type": "code",
      "source": [
        "# function 1\n",
        "def add_three(input_var):\n",
        "  output_var = input_var + 3\n",
        "  return output_var"
      ],
      "metadata": {
        "id": "Qqa-iTs4jFI8"
      },
      "execution_count": null,
      "outputs": []
    },
    {
      "cell_type": "code",
      "source": [
        "new_number = add_three(4)\n",
        "print(new_number)\n"
      ],
      "metadata": {
        "colab": {
          "base_uri": "https://localhost:8080/"
        },
        "id": "DZ-QhJyFj3R5",
        "outputId": "8e17201b-bf29-4206-f442-d3741b1cdae5"
      },
      "execution_count": null,
      "outputs": [
        {
          "output_type": "stream",
          "name": "stdout",
          "text": [
            "7\n"
          ]
        }
      ]
    },
    {
      "cell_type": "code",
      "source": [
        "# function 2\n",
        "def fee_balance(fee_paid):\n",
        "  remaining_fee = fee_paid - 5000\n",
        "  return remaining_fee\n"
      ],
      "metadata": {
        "id": "HDqqQumFmGmZ"
      },
      "execution_count": null,
      "outputs": []
    },
    {
      "cell_type": "code",
      "source": [
        "fee_to_be_paid = fee_balance(80000)\n",
        "print(fee_to_be_paid)"
      ],
      "metadata": {
        "colab": {
          "base_uri": "https://localhost:8080/"
        },
        "id": "8n8ajCWxnI6A",
        "outputId": "c2d23697-8384-444d-b1d9-3cf83cebb513"
      },
      "execution_count": null,
      "outputs": [
        {
          "output_type": "stream",
          "name": "stdout",
          "text": [
            "75000\n"
          ]
        }
      ]
    },
    {
      "cell_type": "code",
      "source": [
        "fee_balance(100000)"
      ],
      "metadata": {
        "colab": {
          "base_uri": "https://localhost:8080/"
        },
        "id": "EdB5Yl1moGfl",
        "outputId": "c4d0c6f7-e453-4fc7-a3ef-7ca086690279"
      },
      "execution_count": null,
      "outputs": [
        {
          "output_type": "execute_result",
          "data": {
            "text/plain": [
              "95000"
            ]
          },
          "metadata": {},
          "execution_count": 22
        }
      ]
    },
    {
      "cell_type": "code",
      "source": [
        "def greeting(visitors_name):\n",
        "  visitors_greeting = \"Hello \" + visitors_name\n",
        "  return visitors_greeting"
      ],
      "metadata": {
        "id": "VTeT0Moxo593"
      },
      "execution_count": null,
      "outputs": []
    },
    {
      "cell_type": "code",
      "source": [
        "greeting(\"Francis\")"
      ],
      "metadata": {
        "colab": {
          "base_uri": "https://localhost:8080/",
          "height": 35
        },
        "id": "qoHDp_RxqL-d",
        "outputId": "20110d4f-0bd4-4703-d0f8-caeb0c6d88f5"
      },
      "execution_count": null,
      "outputs": [
        {
          "output_type": "execute_result",
          "data": {
            "text/plain": [
              "'Hello Francis'"
            ],
            "application/vnd.google.colaboratory.intrinsic+json": {
              "type": "string"
            }
          },
          "metadata": {},
          "execution_count": 30
        }
      ]
    },
    {
      "cell_type": "code",
      "source": [
        "def weekly_wages(hours_worked):\n",
        "  pay_before_tax = (hours_worked * 15)\n",
        "  pay_after_tax = pay_before_tax * .88\n",
        "  weekly_paycheck = pay_after_tax\n",
        "  return weekly_paycheck"
      ],
      "metadata": {
        "id": "o4UE0TkAscs2"
      },
      "execution_count": null,
      "outputs": []
    },
    {
      "cell_type": "code",
      "source": [
        "weekly_wages(40)"
      ],
      "metadata": {
        "colab": {
          "base_uri": "https://localhost:8080/"
        },
        "id": "13cREW2ovCk2",
        "outputId": "2e38a117-2f54-4840-d110-faa600f189be"
      },
      "execution_count": null,
      "outputs": [
        {
          "output_type": "execute_result",
          "data": {
            "text/plain": [
              "528.0"
            ]
          },
          "metadata": {},
          "execution_count": 37
        }
      ]
    },
    {
      "cell_type": "code",
      "source": [
        "def weekly_wages2(hours_worked, pay_hourly):\n",
        "  pay_before_tax = (hours_worked * pay_hourly)\n",
        "  pay_after_tax = pay_before_tax * .88\n",
        "  weekly_paycheck = pay_after_tax\n",
        "  return weekly_paycheck"
      ],
      "metadata": {
        "id": "K9becyJw0ZPP"
      },
      "execution_count": null,
      "outputs": []
    },
    {
      "cell_type": "code",
      "source": [
        "weekly_wages2(40, 15)"
      ],
      "metadata": {
        "colab": {
          "base_uri": "https://localhost:8080/"
        },
        "id": "DVl0BkUL1Pqo",
        "outputId": "e74bd395-2b6b-462c-8922-ac1ae6b1c185"
      },
      "execution_count": null,
      "outputs": [
        {
          "output_type": "execute_result",
          "data": {
            "text/plain": [
              "528.0"
            ]
          },
          "metadata": {},
          "execution_count": 40
        }
      ]
    },
    {
      "cell_type": "code",
      "source": [
        "# Function with no arguments and no return\n",
        "def hello():\n",
        "  print(\"Hello Francis!\")\n",
        "  print(\"How are you doing today?\")"
      ],
      "metadata": {
        "id": "yh0M3gpU18JY"
      },
      "execution_count": null,
      "outputs": []
    },
    {
      "cell_type": "code",
      "source": [
        "hello()"
      ],
      "metadata": {
        "colab": {
          "base_uri": "https://localhost:8080/"
        },
        "id": "bLTL8-LN2heX",
        "outputId": "b38bd455-810d-46a8-b7ac-0a33b61518f9"
      },
      "execution_count": null,
      "outputs": [
        {
          "output_type": "stream",
          "name": "stdout",
          "text": [
            "Hello Francis!\n",
            "How are you doing today?\n"
          ]
        }
      ]
    },
    {
      "cell_type": "code",
      "source": [
        "# Data types\n",
        "x = 3\n",
        "y = 4.\n",
        "print(x)\n",
        "print(y)\n",
        "print(type(x))\n",
        "print(type(y))\n",
        "\n"
      ],
      "metadata": {
        "colab": {
          "base_uri": "https://localhost:8080/"
        },
        "id": "LoqCFXDV4Y7_",
        "outputId": "b83980ee-6726-4d1d-d397-39bf080d6b83"
      },
      "execution_count": null,
      "outputs": [
        {
          "output_type": "stream",
          "name": "stdout",
          "text": [
            "3\n",
            "4.0\n",
            "<class 'int'>\n",
            "<class 'float'>\n"
          ]
        }
      ]
    },
    {
      "cell_type": "code",
      "source": [
        "# Rounding off\n",
        "pi = 3.14285714285\n",
        "new_pi = (round(pi, 3))\n",
        "print(new_pi)"
      ],
      "metadata": {
        "colab": {
          "base_uri": "https://localhost:8080/"
        },
        "id": "Lz9BVrW75rrD",
        "outputId": "088d611b-ddd2-4ad5-df90-e1f95225a5e4"
      },
      "execution_count": null,
      "outputs": [
        {
          "output_type": "stream",
          "name": "stdout",
          "text": [
            "3.143\n"
          ]
        }
      ]
    },
    {
      "cell_type": "code",
      "source": [
        "# Print length of a string\n",
        "name = \"Francis\"\n",
        "print(len(name))"
      ],
      "metadata": {
        "colab": {
          "base_uri": "https://localhost:8080/"
        },
        "id": "plZZ6JrC9WEJ",
        "outputId": "ea156bcb-72f2-4f18-f462-2c46a82d9106"
      },
      "execution_count": null,
      "outputs": [
        {
          "output_type": "stream",
          "name": "stdout",
          "text": [
            "7\n"
          ]
        }
      ]
    },
    {
      "cell_type": "code",
      "source": [
        "# Turn a number to float\n",
        "x = 3\n",
        "print(float(x))"
      ],
      "metadata": {
        "colab": {
          "base_uri": "https://localhost:8080/"
        },
        "id": "NDtoU-gM-1Kn",
        "outputId": "0d58d878-f71b-4cbb-a16b-74320c9c9838"
      },
      "execution_count": null,
      "outputs": [
        {
          "output_type": "stream",
          "name": "stdout",
          "text": [
            "3.0\n"
          ]
        }
      ]
    },
    {
      "cell_type": "code",
      "source": [
        "# Concatination\n",
        "print(\"John \" + \"Doe\")\n",
        "print(\"hello \" * 3)"
      ],
      "metadata": {
        "colab": {
          "base_uri": "https://localhost:8080/"
        },
        "id": "Kiedy2n8_sn0",
        "outputId": "7eb20ef0-8049-4a6b-86d8-2c9b0dbed9c1"
      },
      "execution_count": null,
      "outputs": [
        {
          "output_type": "stream",
          "name": "stdout",
          "text": [
            "John Doe\n",
            "hello hello hello \n"
          ]
        }
      ]
    },
    {
      "cell_type": "code",
      "source": [
        "# Conditional statements\n",
        "print(2<4)\n",
        "print(1==5)"
      ],
      "metadata": {
        "colab": {
          "base_uri": "https://localhost:8080/"
        },
        "id": "ZG2_Bcu0jBl-",
        "outputId": "b1be7e17-a729-462a-cfaf-cb0ce9ebc425"
      },
      "execution_count": 1,
      "outputs": [
        {
          "output_type": "stream",
          "name": "stdout",
          "text": [
            "True\n",
            "False\n"
          ]
        }
      ]
    },
    {
      "cell_type": "code",
      "source": [
        "# If statement\n",
        "def patient_status(temp):\n",
        "  message = \"Normal temperature\"\n",
        "  if temp > 38:\n",
        "    message = \"Fever\"\n",
        "  return message"
      ],
      "metadata": {
        "id": "ooF2Npo6lRGm"
      },
      "execution_count": 3,
      "outputs": []
    },
    {
      "cell_type": "code",
      "source": [
        "patient_status(37)"
      ],
      "metadata": {
        "colab": {
          "base_uri": "https://localhost:8080/",
          "height": 35
        },
        "id": "eqth7rI7mRN0",
        "outputId": "ba40c4fd-0336-48b4-eea9-ff42034cb090"
      },
      "execution_count": 8,
      "outputs": [
        {
          "output_type": "execute_result",
          "data": {
            "text/plain": [
              "'Normal temperature'"
            ],
            "application/vnd.google.colaboratory.intrinsic+json": {
              "type": "string"
            }
          },
          "metadata": {},
          "execution_count": 8
        }
      ]
    },
    {
      "cell_type": "code",
      "source": [
        "patient_status(39)"
      ],
      "metadata": {
        "colab": {
          "base_uri": "https://localhost:8080/",
          "height": 35
        },
        "id": "2ucg4uP4m7_K",
        "outputId": "4086fe60-5fe1-47cb-ad32-70102f543bc7"
      },
      "execution_count": 7,
      "outputs": [
        {
          "output_type": "execute_result",
          "data": {
            "text/plain": [
              "'Fever'"
            ],
            "application/vnd.google.colaboratory.intrinsic+json": {
              "type": "string"
            }
          },
          "metadata": {},
          "execution_count": 7
        }
      ]
    },
    {
      "cell_type": "code",
      "source": [
        "# If else statement\n",
        "def blood_donation_checker(weight):\n",
        "  if weight > 50:\n",
        "    message = \"Fit to donate blood\"\n",
        "  else:\n",
        "    message = \"Sorry!Not fit to donate blood\"\n",
        "  return message"
      ],
      "metadata": {
        "id": "uTW5rCdZn7iZ"
      },
      "execution_count": 9,
      "outputs": []
    },
    {
      "cell_type": "code",
      "source": [
        "patient_a = blood_donation_checker(45)\n",
        "patient_b = blood_donation_checker(79)\n",
        "print(patient_a)\n",
        "print(patient_b)"
      ],
      "metadata": {
        "colab": {
          "base_uri": "https://localhost:8080/"
        },
        "id": "8_z8QKdEo33t",
        "outputId": "038fb323-0315-4dbb-cc45-fa97273d432b"
      },
      "execution_count": 11,
      "outputs": [
        {
          "output_type": "stream",
          "name": "stdout",
          "text": [
            "Sorry!Not fit to donate blood\n",
            "Fit to donate blood\n"
          ]
        }
      ]
    },
    {
      "cell_type": "code",
      "source": [
        "def graduation_system(student_gpa):\n",
        "  if student_gpa > 70:\n",
        "    message = \"First Class Honors\"\n",
        "  elif student_gpa > 60:\n",
        "    message = \"Second Class Upper Honors\"\n",
        "  elif student_gpa > 50:\n",
        "    message = \"Second Class Lower\"\n",
        "  else:\n",
        "    message = \"Pass\"\n",
        "  return message"
      ],
      "metadata": {
        "id": "OTNnlUiMrQC3"
      },
      "execution_count": 18,
      "outputs": []
    },
    {
      "cell_type": "code",
      "source": [
        "graduant_a = graduation_system(77)\n",
        "graduant_b = graduation_system(65)\n",
        "graduant_c = graduation_system(54)\n",
        "graduant_d = graduation_system(43)\n",
        "\n",
        "print(graduant_a)\n",
        "print(graduant_b)\n",
        "print(graduant_c)\n",
        "print(graduant_d)"
      ],
      "metadata": {
        "colab": {
          "base_uri": "https://localhost:8080/"
        },
        "id": "uB4giGaktQGd",
        "outputId": "8677bc8e-7c1b-4b21-d00a-88f4bd03cdb5"
      },
      "execution_count": 19,
      "outputs": [
        {
          "output_type": "stream",
          "name": "stdout",
          "text": [
            "First Class Honors\n",
            "Second Class Upper Honors\n",
            "Second Class Lower\n",
            "Pass\n"
          ]
        }
      ]
    },
    {
      "cell_type": "code",
      "source": [
        "def get_taxes(earnings):\n",
        "  if earnings > 24000:\n",
        "    tax = earnings * .35\n",
        "  elif earnings > 12000:\n",
        "    tax = earnings * .30\n",
        "  else:\n",
        "    tax = earnings * .25\n",
        "  return tax\n"
      ],
      "metadata": {
        "id": "7XaQlqwly9EX"
      },
      "execution_count": 20,
      "outputs": []
    },
    {
      "cell_type": "code",
      "source": [
        "print(get_taxes(30000))\n",
        "print(get_taxes(19000))\n",
        "print(get_taxes(5500))"
      ],
      "metadata": {
        "colab": {
          "base_uri": "https://localhost:8080/"
        },
        "id": "isfE6-170o4f",
        "outputId": "790bc161-2589-47c6-c8f4-86acd291fa7f"
      },
      "execution_count": 22,
      "outputs": [
        {
          "output_type": "stream",
          "name": "stdout",
          "text": [
            "10500.0\n",
            "5700.0\n",
            "1375.0\n"
          ]
        }
      ]
    },
    {
      "cell_type": "code",
      "source": [
        "# Python lists\n",
        "super_cars = [\"Rolls Royce\" , \"Lambourghini\", \"Maybach\", \"Buggati\", \"Ferrari\", \"Porsche\", \"Tesla\", \"Aston Martin\"]\n",
        "\n",
        "print(super_cars)\n",
        "\n",
        "# Python indexing\n",
        "print(super_cars[0])\n",
        "print(super_cars[3])\n",
        "print(super_cars[7])\n",
        "\n",
        "# check type and length\n",
        "print(type(super_cars))\n",
        "print(len(super_cars))"
      ],
      "metadata": {
        "colab": {
          "base_uri": "https://localhost:8080/"
        },
        "id": "y21BzMGz4q3P",
        "outputId": "618226fb-d219-42a0-f7e4-33aef957ad00"
      },
      "execution_count": 64,
      "outputs": [
        {
          "output_type": "stream",
          "name": "stdout",
          "text": [
            "['Rolls Royce', 'Lambourghini', 'Maybach', 'Buggati', 'Ferrari', 'Porsche', 'Tesla', 'Aston Martin']\n",
            "Rolls Royce\n",
            "Buggati\n",
            "Aston Martin\n",
            "<class 'list'>\n",
            "8\n"
          ]
        }
      ]
    },
    {
      "cell_type": "code",
      "source": [
        "# list slicing\n",
        "print(\"First three cars: \" , super_cars[:3])\n",
        "print(\"Last two cars: \" , super_cars[-2:])"
      ],
      "metadata": {
        "colab": {
          "base_uri": "https://localhost:8080/"
        },
        "id": "WMzcmh3U7UdR",
        "outputId": "bdc30505-2c27-4cc5-bbd9-d7c51f699a1d"
      },
      "execution_count": 65,
      "outputs": [
        {
          "output_type": "stream",
          "name": "stdout",
          "text": [
            "First three cars:  ['Rolls Royce', 'Lambourghini', 'Maybach']\n",
            "Last two cars:  ['Tesla', 'Aston Martin']\n"
          ]
        }
      ]
    },
    {
      "cell_type": "code",
      "source": [
        "# list append\n",
        "print(super_cars)\n",
        "super_cars.append(\"Range Rover\")\n",
        "print(super_cars)"
      ],
      "metadata": {
        "colab": {
          "base_uri": "https://localhost:8080/"
        },
        "id": "HlDirvPwBQUf",
        "outputId": "cbff0d21-c942-4c05-da1d-544ada05d31d"
      },
      "execution_count": 66,
      "outputs": [
        {
          "output_type": "stream",
          "name": "stdout",
          "text": [
            "['Rolls Royce', 'Lambourghini', 'Maybach', 'Buggati', 'Ferrari', 'Porsche', 'Tesla', 'Aston Martin']\n",
            "['Rolls Royce', 'Lambourghini', 'Maybach', 'Buggati', 'Ferrari', 'Porsche', 'Tesla', 'Aston Martin', 'Range Rover']\n"
          ]
        }
      ]
    },
    {
      "cell_type": "code",
      "source": [
        "# list remove\n",
        "print(super_cars)\n",
        "super_cars.remove(\"Aston Martin\")\n",
        "print(super_cars)"
      ],
      "metadata": {
        "colab": {
          "base_uri": "https://localhost:8080/"
        },
        "id": "2Mtll21kB7d6",
        "outputId": "5cf337f4-7823-4cb8-96e2-6a034a47f990"
      },
      "execution_count": 67,
      "outputs": [
        {
          "output_type": "stream",
          "name": "stdout",
          "text": [
            "['Rolls Royce', 'Lambourghini', 'Maybach', 'Buggati', 'Ferrari', 'Porsche', 'Tesla', 'Aston Martin', 'Range Rover']\n",
            "['Rolls Royce', 'Lambourghini', 'Maybach', 'Buggati', 'Ferrari', 'Porsche', 'Tesla', 'Range Rover']\n"
          ]
        }
      ]
    },
    {
      "cell_type": "code",
      "source": [
        "# Operations on lists\n",
        "marks_awarded = [94, 86, 75, 63, 57, 45]\n",
        "print(marks_awarded)\n",
        "print(\"Mininum marks awarded is:\", min(marks_awarded))\n",
        "print(\"Maxinum marks awarded is:\", max(marks_awarded))\n",
        "print(\"Total marks awarded is:\", sum(marks_awarded))\n",
        "print(\"Average marks of the first three students is:\", sum(marks_awarded[:3])/3)\n",
        "print(\"Average marks of the last two students is:\", sum(marks_awarded[-2:])/3)"
      ],
      "metadata": {
        "colab": {
          "base_uri": "https://localhost:8080/"
        },
        "id": "tJ25mIltDBej",
        "outputId": "32e7ae4d-f748-401a-805c-855a7b16aff0"
      },
      "execution_count": 75,
      "outputs": [
        {
          "output_type": "stream",
          "name": "stdout",
          "text": [
            "[94, 86, 75, 63, 57, 45]\n",
            "Mininum marks awarded is: 45\n",
            "Maxinum marks awarded is: 94\n",
            "Total marks awarded is: 420\n",
            "Average marks of the first three students is: 85.0\n",
            "Average marks of the last two students is: 34.0\n"
          ]
        }
      ]
    }
  ]
}